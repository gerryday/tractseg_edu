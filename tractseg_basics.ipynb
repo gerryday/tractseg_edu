{
 "cells": [
  {
   "cell_type": "code",
   "execution_count": 1,
   "metadata": {},
   "outputs": [
    {
     "name": "stdout",
     "output_type": "stream",
     "text": [
      "\u001b[31mDiffusion.bvals\u001b[m\u001b[m         \u001b[31mDiffusion.nii.gz\u001b[m\u001b[m\r\n",
      "\u001b[31mDiffusion.bvecs\u001b[m\u001b[m         nodif_brain_mask.nii.gz\r\n"
     ]
    }
   ],
   "source": [
    "!ls example_files"
   ]
  },
  {
   "cell_type": "code",
   "execution_count": 2,
   "metadata": {},
   "outputs": [
    {
     "name": "stdout",
     "output_type": "stream",
     "text": [
      "Creating peaks (1 of 3)...\n",
      "Creating peaks (2 of 3)...\n",
      "Creating peaks (3 of 3)...\n",
      "/Users/jakob/ts_env/bin/TractSeg:213: DeprecationWarning: get_affine method is deprecated.\n",
      "Please use the ``img.affine`` property instead.\n",
      "\n",
      "* deprecated from version: 2.1\n",
      "* Will raise <class 'nibabel.deprecator.ExpiredDeprecationError'> as of version: 4.0\n",
      "  data_affine = data_img.get_affine()\n",
      "Loading weights from: /Users/jakob/.tractseg/pretrained_weights_tract_segmentation_v2.npz\n",
      "Processing direction (1 of 3)\n",
      "100%|█████████████████████████████████████████| 144/144 [01:31<00:00,  1.57it/s]\n",
      "Processing direction (2 of 3)\n",
      "100%|█████████████████████████████████████████| 144/144 [01:30<00:00,  1.64it/s]\n",
      "Processing direction (3 of 3)\n",
      "100%|█████████████████████████████████████████| 144/144 [01:35<00:00,  1.60it/s]\n"
     ]
    }
   ],
   "source": [
    "!TractSeg -i example_files/Diffusion.nii.gz -o output \\\n",
    "--raw_diffusion_input --brain_mask example_files/nodif_brain_mask.nii.gz"
   ]
  },
  {
   "cell_type": "code",
   "execution_count": 19,
   "metadata": {},
   "outputs": [],
   "source": [
    "!mrview example_files/Diffusion.nii.gz -roi.load output/tractseg_output/bundle_segmentations/CST_right.nii.gz"
   ]
  },
  {
   "cell_type": "markdown",
   "metadata": {},
   "source": [
    "### Ideas\n",
    "* non-HCP preprocessing -> eddy etc not part of this, but moving to MNI space maybe?\n",
    "* CA incomplete -> what can we do"
   ]
  },
  {
   "cell_type": "code",
   "execution_count": null,
   "metadata": {},
   "outputs": [],
   "source": []
  }
 ],
 "metadata": {
  "kernelspec": {
   "display_name": "Python 3",
   "language": "python",
   "name": "python3"
  },
  "language_info": {
   "codemirror_mode": {
    "name": "ipython",
    "version": 3
   },
   "file_extension": ".py",
   "mimetype": "text/x-python",
   "name": "python",
   "nbconvert_exporter": "python",
   "pygments_lexer": "ipython3",
   "version": "3.7.2"
  }
 },
 "nbformat": 4,
 "nbformat_minor": 2
}
